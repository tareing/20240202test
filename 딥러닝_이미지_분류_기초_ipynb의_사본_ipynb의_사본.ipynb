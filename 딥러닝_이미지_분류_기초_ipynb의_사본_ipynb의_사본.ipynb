{
  "nbformat": 4,
  "nbformat_minor": 0,
  "metadata": {
    "colab": {
      "provenance": [],
      "include_colab_link": true
    },
    "kernelspec": {
      "name": "python3",
      "display_name": "Python 3"
    },
    "language_info": {
      "name": "python"
    }
  },
  "cells": [
    {
      "cell_type": "markdown",
      "metadata": {
        "id": "view-in-github",
        "colab_type": "text"
      },
      "source": [
        "<a href=\"https://colab.research.google.com/github/tareing/20240202test/blob/master/%EB%94%A5%EB%9F%AC%EB%8B%9D_%EC%9D%B4%EB%AF%B8%EC%A7%80_%EB%B6%84%EB%A5%98_%EA%B8%B0%EC%B4%88_ipynb%EC%9D%98_%EC%82%AC%EB%B3%B8_ipynb%EC%9D%98_%EC%82%AC%EB%B3%B8.ipynb\" target=\"_parent\"><img src=\"https://colab.research.google.com/assets/colab-badge.svg\" alt=\"Open In Colab\"/></a>"
      ]
    },
    {
      "cell_type": "code",
      "execution_count": 2,
      "metadata": {
        "colab": {
          "base_uri": "https://localhost:8080/"
        },
        "id": "biqNIcYjyM4O",
        "outputId": "15d27856-2ad9-47ad-9fd8-006402c95726"
      },
      "outputs": [
        {
          "output_type": "stream",
          "name": "stdout",
          "text": [
            "2.15.0\n"
          ]
        }
      ],
      "source": [
        "# 관련 라이브러리 로드\n",
        "import tensorflow as tf\n",
        "\n",
        "# Helper libraries\n",
        "import numpy as np\n",
        "import matplotlib.pyplot as plt\n",
        "\n",
        "print(tf.__version__)"
      ]
    },
    {
      "cell_type": "code",
      "source": [
        "# 학습용 데이터와 테스트용 데이터 준비\n",
        "fashion_mnist = tf.keras.datasets.fashion_mnist\n",
        "\n",
        "(train_images, train_labels), (test_images, test_labels) = fashion_mnist.load_data()"
      ],
      "metadata": {
        "id": "Th__pITszmvE",
        "outputId": "6b1c34bc-424c-4051-bc86-ca80c35f4e3f",
        "colab": {
          "base_uri": "https://localhost:8080/"
        }
      },
      "execution_count": 3,
      "outputs": [
        {
          "output_type": "stream",
          "name": "stdout",
          "text": [
            "Downloading data from https://storage.googleapis.com/tensorflow/tf-keras-datasets/train-labels-idx1-ubyte.gz\n",
            "29515/29515 [==============================] - 0s 0us/step\n",
            "Downloading data from https://storage.googleapis.com/tensorflow/tf-keras-datasets/train-images-idx3-ubyte.gz\n",
            "26421880/26421880 [==============================] - 0s 0us/step\n",
            "Downloading data from https://storage.googleapis.com/tensorflow/tf-keras-datasets/t10k-labels-idx1-ubyte.gz\n",
            "5148/5148 [==============================] - 0s 0us/step\n",
            "Downloading data from https://storage.googleapis.com/tensorflow/tf-keras-datasets/t10k-images-idx3-ubyte.gz\n",
            "4422102/4422102 [==============================] - 0s 0us/step\n"
          ]
        }
      ]
    },
    {
      "cell_type": "code",
      "source": [
        "# 데이터의 개수 및 내용 확인\n",
        "print(train_images.shape)\n",
        "print(train_labels.shape)\n",
        "print(train_labels)\n"
      ],
      "metadata": {
        "id": "v8cmCxxKzvSl",
        "outputId": "87094111-cb72-4ff5-b19c-86a8b77c3310",
        "colab": {
          "base_uri": "https://localhost:8080/"
        }
      },
      "execution_count": 4,
      "outputs": [
        {
          "output_type": "stream",
          "name": "stdout",
          "text": [
            "(60000, 28, 28)\n",
            "(60000,)\n",
            "[9 0 0 ... 3 0 5]\n"
          ]
        }
      ]
    },
    {
      "cell_type": "code",
      "source": [
        "# 각 레이블의 클래스명을 찾기 위한 배열 생성\n",
        "class_names = ['T-shirt/top', 'Trouser', 'Pullover', 'Dress', 'Coat',\n",
        "               'Sandal', 'Shirt', 'Sneaker', 'Bag', 'Ankle boot']"
      ],
      "metadata": {
        "id": "CS1A_bEE1vj2"
      },
      "execution_count": 5,
      "outputs": []
    },
    {
      "cell_type": "code",
      "source": [
        "# 레이블 3은 Dress임을 확인\n",
        "class_names[3]"
      ],
      "metadata": {
        "id": "-0_z98Dk10CI",
        "outputId": "e451f6da-52c9-4626-e067-7f08c88440ed",
        "colab": {
          "base_uri": "https://localhost:8080/",
          "height": 35
        }
      },
      "execution_count": 6,
      "outputs": [
        {
          "output_type": "execute_result",
          "data": {
            "text/plain": [
              "'Dress'"
            ],
            "application/vnd.google.colaboratory.intrinsic+json": {
              "type": "string"
            }
          },
          "metadata": {},
          "execution_count": 6
        }
      ]
    },
    {
      "cell_type": "code",
      "source": [
        "# train_images의 첫번째 데이터를 직접 이미지로 출력하기\n",
        "plt.figure()\n",
        "plt.imshow(train_images[0])\n",
        "plt.colorbar()\n",
        "plt.grid(False)\n",
        "plt.show()"
      ],
      "metadata": {
        "id": "vGtasZhV04Fo",
        "outputId": "cb9ee01a-1ae5-4368-92d0-ffadd737d9e2",
        "colab": {
          "base_uri": "https://localhost:8080/",
          "height": 430
        }
      },
      "execution_count": 7,
      "outputs": [
        {
          "output_type": "display_data",
          "data": {
            "text/plain": [
              "<Figure size 640x480 with 2 Axes>"
            ],
            "image/png": "[encoded data removed]"
          },
          "metadata": {}
        }
      ]
    },
    {
      "cell_type": "code",
      "source": [
        "# train_images의 두번째 데이터를 직접 이미지로 출력하기\n",
        "plt.figure()\n",
        "plt.imshow(train_images[1])\n",
        "plt.colorbar()\n",
        "plt.grid(False)\n",
        "plt.show()"
      ],
      "metadata": {
        "id": "BhXR2OOL1YcP",
        "outputId": "c50a8e86-0773-4758-8372-18e17c9c382c",
        "colab": {
          "base_uri": "https://localhost:8080/",
          "height": 430
        }
      },
      "execution_count": 8,
      "outputs": [
        {
          "output_type": "display_data",
          "data": {
            "text/plain": [
              "<Figure size 640x480 with 2 Axes>"
            ],
            "image/png": "[encoded data removed]"
          },
          "metadata": {}
        }
      ]
    },
    {
      "cell_type": "code",
      "source": [
        "# 문제1.\n",
        "# 학습 속도와 성능을 높이기 위해 정규화 하기"
      ],
      "metadata": {
        "id": "J1mmKeDq5s1a"
      },
      "execution_count": null,
      "outputs": []
    },
    {
      "cell_type": "code",
      "source": [
        "# 문제2.\n",
        "# 다음과 같은 층으로 구성된 모델을 구성해주세요.\n",
        "# 입력층((28, 28))\n",
        "# 은닉층 - 300개, 활성함수 relu\n",
        "# 출력층(10)\n",
        "model = tf.keras.Sequential([\n",
        "    tf.keras.layers.Flatten(input_shape=(28, 28)),  # 입력층\n",
        "    tf.keras.layers.Dense(300, activation='relu'),   # 은닉층\n",
        "    tf.keras.layers.Dense(10)                        # 출력층\n",
        "])\n"
      ],
      "metadata": {
        "id": "20gp6-vi7bFl"
      },
      "execution_count": 10,
      "outputs": []
    },
    {
      "cell_type": "code",
      "source": [
        "# 모델 세부 정보 세팅\n",
        "model.compile(optimizer='adam',\n",
        "              loss=tf.keras.losses.SparseCategoricalCrossentropy(from_logits=True),\n",
        "              metrics=['accuracy'])"
      ],
      "metadata": {
        "id": "sgICe2NpCf2u"
      },
      "execution_count": 11,
      "outputs": []
    },
    {
      "cell_type": "code",
      "source": [
        "# 문제3.\n",
        "# 데이터를 이용해 모델 학습시키기(epochs는 5회)\n",
        "\n",
        "\n",
        "train_images = train_images / 255.0\n",
        "test_images = test_images / 255.0\n",
        "\n",
        "model = tf.keras.Sequential([\n",
        "    tf.keras.layers.Flatten(input_shape=(28, 28)),  # 입력층\n",
        "    tf.keras.layers.Dense(300, activation='relu'),   # 은닉층\n",
        "    tf.keras.layers.Dense(10)                        # 출력층\n",
        "])\n",
        "\n",
        "model.compile(optimizer='adam',\n",
        "              loss=tf.keras.losses.SparseCategoricalCrossentropy(from_logits=True),\n",
        "              metrics=['accuracy'])\n",
        "\n",
        "model.fit(train_images, train_labels, epochs=5)"
      ],
      "metadata": {
        "id": "C6_qNxy5C1KP",
        "outputId": "3968742c-6bba-42a5-c517-0e49b566bec7",
        "colab": {
          "base_uri": "https://localhost:8080/"
        }
      },
      "execution_count": 13,
      "outputs": [
        {
          "output_type": "stream",
          "name": "stdout",
          "text": [
            "Epoch 1/5\n",
            "1875/1875 [==============================] - 9s 4ms/step - loss: 0.4789 - accuracy: 0.8309\n",
            "Epoch 2/5\n",
            "1875/1875 [==============================] - 9s 5ms/step - loss: 0.3643 - accuracy: 0.8679\n",
            "Epoch 3/5\n",
            "1875/1875 [==============================] - 9s 5ms/step - loss: 0.3256 - accuracy: 0.8801\n",
            "Epoch 4/5\n",
            "1875/1875 [==============================] - 8s 4ms/step - loss: 0.2999 - accuracy: 0.8892\n",
            "Epoch 5/5\n",
            "1875/1875 [==============================] - 10s 5ms/step - loss: 0.2845 - accuracy: 0.8946\n"
          ]
        },
        {
          "output_type": "execute_result",
          "data": {
            "text/plain": [
              "<keras.src.callbacks.History at 0x7a8369b39810>"
            ]
          },
          "metadata": {},
          "execution_count": 13
        }
      ]
    },
    {
      "cell_type": "code",
      "source": [
        "# 학습된 모델의 정확도 평가\n",
        "test_loss, test_acc = model.evaluate(test_images,  test_labels, verbose=2)\n",
        "\n",
        "print('\\nTest accuracy:', test_acc)"
      ],
      "metadata": {
        "id": "VAPtBbb6DLkf",
        "outputId": "a074e2c6-dd0f-465a-b229-5acadc6b769f",
        "colab": {
          "base_uri": "https://localhost:8080/"
        }
      },
      "execution_count": 14,
      "outputs": [
        {
          "output_type": "stream",
          "name": "stdout",
          "text": [
            "313/313 - 1s - loss: 0.3700 - accuracy: 0.8679 - 1s/epoch - 3ms/step\n",
            "\n",
            "Test accuracy: 0.867900013923645\n"
          ]
        }
      ]
    },
    {
      "cell_type": "code",
      "source": [
        "# 학습된 모델의 결과를 확률로 볼수 있도록 설정\n",
        "probability_model = tf.keras.Sequential([model,\n",
        "                                         tf.keras.layers.Softmax()])\n",
        "predictions = probability_model.predict(test_images)"
      ],
      "metadata": {
        "id": "BFB4tGXjD2MQ",
        "outputId": "f9bf0218-9370-4d3f-be5d-e0b1aaf39b37",
        "colab": {
          "base_uri": "https://localhost:8080/"
        }
      },
      "execution_count": 15,
      "outputs": [
        {
          "output_type": "stream",
          "name": "stdout",
          "text": [
            "313/313 [==============================] - 1s 2ms/step\n"
          ]
        }
      ]
    },
    {
      "cell_type": "code",
      "source": [
        "# 표기법을 보기 쉽게 소수점 표기법으로 바꿈\n",
        "import numpy as np\n",
        "\n",
        " # 과학적 표기법 대신 소수점 6자리까지 나타낸다.\n",
        "np.set_printoptions(precision=6, suppress=True)\n",
        "\n",
        "predictions"
      ],
      "metadata": {
        "id": "ZIvBImePEkI2",
        "outputId": "de1d423a-2688-4017-96aa-09d640e8852e",
        "colab": {
          "base_uri": "https://localhost:8080/"
        }
      },
      "execution_count": 16,
      "outputs": [
        {
          "output_type": "execute_result",
          "data": {
            "text/plain": [
              "array([[0.000025, 0.      , 0.      , ..., 0.035333, 0.000003, 0.964606],\n",
              "       [0.000152, 0.      , 0.992749, ..., 0.      , 0.      , 0.      ],\n",
              "       [0.000008, 0.999989, 0.      , ..., 0.      , 0.      , 0.      ],\n",
              "       ...,\n",
              "       [0.00059 , 0.      , 0.00016 , ..., 0.      , 0.998419, 0.      ],\n",
              "       [0.000002, 0.999374, 0.      , ..., 0.      , 0.      , 0.      ],\n",
              "       [0.011614, 0.000032, 0.000535, ..., 0.296057, 0.041093, 0.004735]],\n",
              "      dtype=float32)"
            ]
          },
          "metadata": {},
          "execution_count": 16
        }
      ]
    },
    {
      "cell_type": "code",
      "source": [
        "# 예측 결과 10개중 가장 높은 확률의 레이블을 뽑는 법\n",
        "np.argmax(predictions[0])"
      ],
      "metadata": {
        "id": "iRagphb7FR3s",
        "outputId": "f4cbd510-8ab9-45b9-fdcc-7df1cbfb0248",
        "colab": {
          "base_uri": "https://localhost:8080/"
        }
      },
      "execution_count": 17,
      "outputs": [
        {
          "output_type": "execute_result",
          "data": {
            "text/plain": [
              "9"
            ]
          },
          "metadata": {},
          "execution_count": 17
        }
      ]
    },
    {
      "cell_type": "code",
      "source": [
        "# 문제4.\n",
        "# 테스트 데이터의 0번째 이미지를 모델에게 예측하게 하여 그 결과를 출력해주세요.\n",
        "test_image = np.expand_dims(test_images[0], axis=0)  # 배치 차원 추가\n",
        "\n",
        "\n",
        "predictions = model.predict(test_image)\n",
        "\n",
        "\n",
        "predicted_label = np.argmax(predictions)\n",
        "print(\"모델이 예측한 레이블:\", predicted_label)"
      ],
      "metadata": {
        "id": "kSDP3jqjcy68",
        "outputId": "35f0e118-f39f-4674-9145-2386df1c3c3a",
        "colab": {
          "base_uri": "https://localhost:8080/"
        }
      },
      "execution_count": 18,
      "outputs": [
        {
          "output_type": "stream",
          "name": "stdout",
          "text": [
            "1/1 [==============================] - 0s 112ms/step\n",
            "모델이 예측한 레이블: 9\n"
          ]
        }
      ]
    },
    {
      "cell_type": "code",
      "source": [
        "# 문제5.\n",
        "# 테스트 데이터의 100번째 이미지를 모델에게 예측하게 하여 그 결과를 출력해주세요.\n",
        "test_image_100 = np.expand_dims(test_images[100], axis=0)\n",
        "\n",
        "predictions_100 = model.predict(test_image_100)\n",
        "\n",
        "predicted_label_100 = np.argmax(predictions_100)\n",
        "print(\"모델이 예측한 레이블:\", predicted_label_100)"
      ],
      "metadata": {
        "id": "UWtjQQloFi4p",
        "outputId": "0b54a7d5-ad83-4f4a-f9a4-508d6f7703ba",
        "colab": {
          "base_uri": "https://localhost:8080/"
        }
      },
      "execution_count": 19,
      "outputs": [
        {
          "output_type": "stream",
          "name": "stdout",
          "text": [
            "1/1 [==============================] - 0s 108ms/step\n",
            "모델이 예측한 레이블: 3\n"
          ]
        }
      ]
    },
    {
      "cell_type": "markdown",
      "source": [],
      "metadata": {
        "id": "8ukzjFymdDsI"
      }
    }
  ]
}