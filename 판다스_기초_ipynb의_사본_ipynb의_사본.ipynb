{
  "nbformat": 4,
  "nbformat_minor": 0,
  "metadata": {
    "colab": {
      "provenance": [],
      "include_colab_link": true
    },
    "kernelspec": {
      "name": "python3",
      "display_name": "Python 3"
    },
    "language_info": {
      "name": "python"
    }
  },
  "cells": [
    {
      "cell_type": "markdown",
      "metadata": {
        "id": "view-in-github",
        "colab_type": "text"
      },
      "source": [
        "<a href=\"https://colab.research.google.com/github/tareing/20240202test/blob/master/%ED%8C%90%EB%8B%A4%EC%8A%A4_%EA%B8%B0%EC%B4%88_ipynb%EC%9D%98_%EC%82%AC%EB%B3%B8_ipynb%EC%9D%98_%EC%82%AC%EB%B3%B8.ipynb\" target=\"_parent\"><img src=\"https://colab.research.google.com/assets/colab-badge.svg\" alt=\"Open In Colab\"/></a>"
      ]
    },
    {
      "cell_type": "code",
      "execution_count": null,
      "metadata": {
        "id": "JzvSTkxzCNn5"
      },
      "outputs": [],
      "source": [
        "import pandas as pd\n",
        "stu = pd.read_excel('/content/students.xlsx')"
      ]
    },
    {
      "cell_type": "code",
      "source": [],
      "metadata": {
        "id": "ClqHUdFMVcR3"
      },
      "execution_count": null,
      "outputs": []
    },
    {
      "cell_type": "code",
      "source": [
        "# 아래 문제를 해결해주세요.\n",
        "\n",
        "\n",
        "# 1. 국어가 80점 이상인 학생의 이름과 생년월일\n",
        "data = {'이름': ['학생1', '학생2', '학생3'],\n",
        "        '국어': [75, 85, 90],\n",
        "        '생년월일': ['20000101', '19991231', '20000505']}\n",
        "df = pd.DataFrame(data)\n",
        "filtered_df = df[df['국어'] >= 80]\n",
        "print(filtered_df[['이름', '생년월일']])\n",
        "\n",
        "# 2. 수학이 80점 미만인 학생의 영어와 국어 점수\n",
        "data = {'이름': ['학생1', '학생2', '학생3'],\n",
        "        '국어': [75, 85, 90],\n",
        "        '수학': [78, 75, 60],\n",
        "        '영어': [90, 88, 85],\n",
        "        '생년월일': ['20000101', '19991231', '20000505']}\n",
        "df = pd.DataFrame(data)\n",
        "filtered_df = df[df['수학'] < 80]\n",
        "\n",
        "result_df = filtered_df[['이름', '영어', '국어']]\n",
        "\n",
        "print(result_df)\n",
        "\n",
        "# 3. 국어와 수학이 90점 이상인 학생의 이름, 수학, 국어 점수\n",
        "data = {'이름': ['학생1', '학생2', '학생3'],\n",
        "        '국어': [95, 85, 90],\n",
        "        '수학': [92, 95, 88],\n",
        "        '영어': [90, 88, 85],\n",
        "        '생년월일': ['20000101', '19991231', '20000505']}\n",
        "df = pd.DataFrame(data)\n",
        "\n",
        "\n",
        "filtered_df = df[(df['국어'] >= 90) & (df['수학'] >= 90)]\n",
        "result_df = filtered_df[['이름', '수학', '국어']]\n",
        "\n",
        "print(result_df)\n",
        "\n",
        "# 4. 모든 과목이 60점 미만인 학생의 번호, 이름, 생년월일\n",
        "data = {'번호': [1, 2, 3],\n",
        "        '이름': ['학생1', '학생2', '학생3'],\n",
        "        '국어': [58, 55, 59],\n",
        "        '수학': [45, 58, 30],\n",
        "        '영어': [50, 40, 55],\n",
        "        '생년월일': ['20000101', '19991231', '20000505']}\n",
        "df = pd.DataFrame(data)\n",
        "\n",
        "filtered_df = df[(df['국어'] < 60) & (df['수학'] < 60) & (df['영어'] < 60)]\n",
        "result_df = filtered_df[['번호', '이름', '생년월일']]\n",
        "\n",
        "print(result_df)\n",
        "\n",
        "# 5. 대전 지역 학생들의 이름, 국어, 영어, 수학 점수\n",
        "data = {'이름': ['학생1', '학생2', '학생3', '학생4'],\n",
        "        '지역': ['서울', '대전', '대전', '서울'],\n",
        "        '국어': [80, 85, 90, 78],\n",
        "        '수학': [75, 88, 92, 80],\n",
        "        '영어': [90, 88, 85, 92],\n",
        "        '생년월일': ['20000101', '19991231', '20000505', '20000215']}\n",
        "df = pd.DataFrame(data)\n",
        "\n",
        "daejeon_students = df[df['지역'] == '대전']\n",
        "result_df = daejeon_students[['이름', '국어', '영어', '수학']]\n",
        "\n",
        "print(result_df)"
      ],
      "metadata": {
        "id": "EJ8C5C1JC-kV",
        "outputId": "ed88f166-2502-476a-f298-4766d1c42dba",
        "colab": {
          "base_uri": "https://localhost:8080/"
        }
      },
      "execution_count": null,
      "outputs": [
        {
          "output_type": "stream",
          "name": "stdout",
          "text": [
            "    이름      생년월일\n",
            "1  학생2  19991231\n",
            "2  학생3  20000505\n",
            "    이름  영어  국어\n",
            "0  학생1  90  75\n",
            "1  학생2  88  85\n",
            "2  학생3  85  90\n",
            "    이름  수학  국어\n",
            "0  학생1  92  95\n",
            "   번호   이름      생년월일\n",
            "0   1  학생1  20000101\n",
            "1   2  학생2  19991231\n",
            "2   3  학생3  20000505\n",
            "    이름  국어  영어  수학\n",
            "1  학생2  85  88  88\n",
            "2  학생3  90  85  92\n"
          ]
        }
      ]
    },
    {
      "cell_type": "markdown",
      "source": [],
      "metadata": {
        "id": "UzgtHCU3h10p"
      }
    },
    {
      "cell_type": "code",
      "source": [],
      "metadata": {
        "id": "thN4pLwqUMEe"
      },
      "execution_count": null,
      "outputs": []
    },
    {
      "cell_type": "code",
      "source": [
        "# 아래 문제를 해결해주세요.\n",
        "\n",
        "\n",
        "# 1. 학생들의 총점, 평균 구하기\n",
        "data = {'이름': ['학생1', '학생2', '학생3'],\n",
        "        '국어': [80, 85, 90],\n",
        "        '수학': [75, 88, 92],\n",
        "        '영어': [90, 88, 85],\n",
        "        '생년월일': ['20000101', '19991231', '20000505']}\n",
        "df = pd.DataFrame(data)\n",
        "\n",
        "df['총점'] = df[['국어', '수학', '영어']].sum(axis=1)\n",
        "df['평균'] = df[['국어', '수학', '영어']].mean(axis=1)\n",
        "\n",
        "print(df[['이름', '총점', '평균']])\n",
        "\n",
        "# 2. 학생들의 평균이 높은 순으로 정렬. 만약 평균이 같다면 학번으로 오름차순\n",
        "data = {'학번': [1, 2, 3],\n",
        "        '이름': ['학생1', '학생2', '학생3'],\n",
        "        '국어': [80, 85, 90],\n",
        "        '수학': [75, 88, 92],\n",
        "        '영어': [90, 88, 85],\n",
        "        '생년월일': ['20000101', '19991231', '20000505']}\n",
        "df = pd.DataFrame(data)\n",
        "\n",
        "df['평균'] = df[['국어', '수학', '영어']].mean(axis=1)\n",
        "sorted_df = df.sort_values(by=['평균', '학번'], ascending=[False, True])\n",
        "\n",
        "print(sorted_df[['학번', '이름', '평균']])"
      ],
      "metadata": {
        "id": "tHL-HbNWDIkQ",
        "outputId": "ec84b6ca-868f-4681-a423-e79cf5f55a88",
        "colab": {
          "base_uri": "https://localhost:8080/"
        }
      },
      "execution_count": null,
      "outputs": [
        {
          "output_type": "stream",
          "name": "stdout",
          "text": [
            "    이름   총점         평균\n",
            "0  학생1  245  81.666667\n",
            "1  학생2  261  87.000000\n",
            "2  학생3  267  89.000000\n",
            "   학번   이름         평균\n",
            "2   3  학생3  89.000000\n",
            "1   2  학생2  87.000000\n",
            "0   1  학생1  81.666667\n"
          ]
        }
      ]
    }
  ]
}